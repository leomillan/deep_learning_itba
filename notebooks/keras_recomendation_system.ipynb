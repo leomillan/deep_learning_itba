{
 "cells": [
  {
   "cell_type": "markdown",
   "id": "3ce5a44d-0efe-467e-98d6-1a5479305a31",
   "metadata": {},
   "source": [
    "Download dataset from:\n",
    "`http://files.grouplens.org/datasets/movielens/ml-100k.zip`"
   ]
  },
  {
   "cell_type": "code",
   "execution_count": null,
   "id": "07a9cc9f-c996-4c8e-aea1-ca687269c26e",
   "metadata": {},
   "outputs": [],
   "source": [
    "%load_ext autoreload\n",
    "%autoreload 2"
   ]
  },
  {
   "cell_type": "code",
   "execution_count": null,
   "id": "97a7110b-6e29-4ae7-a309-699b0a14f084",
   "metadata": {},
   "outputs": [],
   "source": [
    "import mlflow\n",
    "import pandas as pd\n",
    "\n",
    "from sklearn.model_selection import train_test_split\n",
    "\n",
    "from keras import Model, Sequential\n",
    "from keras.constraints import non_neg\n",
    "from keras.layers import Embedding, Input, Flatten, Dot\n",
    "from keras.optimizers import Adam\n",
    "from keras.regularizers import l2"
   ]
  },
  {
   "cell_type": "code",
   "execution_count": null,
   "id": "3f055bda-976b-4c90-afa2-015a51504023",
   "metadata": {},
   "outputs": [],
   "source": [
    "# Set MLFlow Experiment\n",
    "mlflow.set_tracking_uri(uri=\"http://127.0.0.1:5000\")\n",
    "mlflow.set_experiment(experiment_name=\"recommendation_system\")"
   ]
  },
  {
   "cell_type": "code",
   "execution_count": null,
   "id": "aa905b64-fbe1-4d14-b282-a02d80cdc934",
   "metadata": {},
   "outputs": [],
   "source": [
    "header = ['userId', 'movieId', 'rating', 'timestamp']\n",
    "ratings = pd.read_csv('data/ml-100k/u.data', sep='\\t', names=header)\n",
    "ratings.head(10)"
   ]
  },
  {
   "cell_type": "code",
   "execution_count": null,
   "id": "cf98b307-3457-40be-943c-554fa48decb9",
   "metadata": {},
   "outputs": [],
   "source": [
    "ratings.describe()"
   ]
  },
  {
   "cell_type": "code",
   "execution_count": null,
   "id": "22014fc7-5c49-45ce-a211-49f4195ae387",
   "metadata": {},
   "outputs": [],
   "source": [
    "# Create index for user and movie IDs.\n",
    "u_unique = ratings.userId.unique()\n",
    "user2Idx = {o:i+1 for i,o in enumerate(u_unique)}\n",
    "\n",
    "m_unique = ratings.movieId.unique()\n",
    "movie2Idx = {o:i+1 for i,o in enumerate(m_unique)}"
   ]
  },
  {
   "cell_type": "code",
   "execution_count": null,
   "id": "4d8d1c7a-84b1-482b-8a17-f0f640ff287b",
   "metadata": {},
   "outputs": [],
   "source": [
    "ratings.userId = ratings.userId.apply(lambda x: user2Idx[x])\n",
    "ratings.movieId = ratings.movieId.apply(lambda x: movie2Idx[x])"
   ]
  },
  {
   "cell_type": "code",
   "execution_count": null,
   "id": "75bdde3b-64c4-446c-95cf-0b8a201b6e79",
   "metadata": {},
   "outputs": [],
   "source": [
    "ratings.tail()"
   ]
  },
  {
   "cell_type": "code",
   "execution_count": null,
   "id": "cffc5d6d-50db-4469-80c9-591a6e169e79",
   "metadata": {},
   "outputs": [],
   "source": [
    "# Split Dataset\n",
    "ratings_train, ratings_val = train_test_split(ratings, test_size=0.2)"
   ]
  },
  {
   "cell_type": "code",
   "execution_count": null,
   "id": "f173f88c-977e-45a3-87f1-dec86fb089f9",
   "metadata": {},
   "outputs": [],
   "source": [
    "n_users = int(ratings.userId.nunique())\n",
    "n_movies = int(ratings.movieId.nunique())\n",
    "n_users_train = int(ratings_train.userId.nunique())\n",
    "n_movies_train = int(ratings_train.movieId.nunique())\n",
    "print(f\"{n_users = }\")\n",
    "print(f\"{n_movies = }\")\n",
    "print(f\"{n_users_train = }\")\n",
    "print(f\"{n_movies_train = }\")"
   ]
  },
  {
   "cell_type": "code",
   "execution_count": null,
   "id": "b2cb286f-20e6-498d-b105-4fc52a3583f0",
   "metadata": {},
   "outputs": [],
   "source": [
    "n_latent_factors = 5\n",
    "# Input Layers\n",
    "movie_input = Input(shape=[1], name='Item')\n",
    "user_input = Input(shape=[1],name='User')\n",
    "\n",
    "# Movie Embedding Layer\n",
    "movie_embedding = Embedding(n_movies + 1, \n",
    "                            n_latent_factors, \n",
    "                            mask_zero=True,\n",
    "                            embeddings_regularizer=l2(0.001),\n",
    "                            name='Movie-Embedding')(movie_input)\n",
    "movie_vec = Flatten(name='FlattenMovies')(movie_embedding)\n",
    "\n",
    "# User Embedding Layer\n",
    "user_embedding = Embedding(n_users + 1, \n",
    "                           n_latent_factors, \n",
    "                           mask_zero=True, \n",
    "                           name='User-Embedding')(user_input)\n",
    "user_vec = Flatten(name='FlattenUsers')(user_embedding)"
   ]
  },
  {
   "cell_type": "code",
   "execution_count": null,
   "id": "2326c143-aa90-4f47-82cb-6daa490f233f",
   "metadata": {},
   "outputs": [],
   "source": [
    "prod = Dot(axes=1, name='DotProduct')([movie_vec, user_vec])\n",
    "model = Model([user_input, movie_input], prod)\n",
    "model.summary()"
   ]
  },
  {
   "cell_type": "code",
   "execution_count": null,
   "id": "603ab20a-64b5-48c7-8e07-5156b46e02a5",
   "metadata": {},
   "outputs": [],
   "source": [
    "model.compile(Adam(learning_rate=0.001), 'mean_squared_error', metrics=[\"root_mean_squared_error\"])"
   ]
  },
  {
   "cell_type": "code",
   "execution_count": null,
   "id": "b1b1bad7-6cdc-4ec7-bd10-4a9c34236603",
   "metadata": {
    "scrolled": true
   },
   "outputs": [],
   "source": [
    "with mlflow.start_run(run_name=\"keras_model\"):\n",
    "    # Fit Model\n",
    "    history = model.fit(\n",
    "        [ratings_train.userId, ratings_train.movieId], \n",
    "        ratings_train.rating, \n",
    "        batch_size=320,\n",
    "        validation_data=([ratings_val.userId, ratings_val.movieId], ratings_val.rating), \n",
    "        epochs=100,\n",
    "        verbose=1\n",
    "        )\n",
    "\n",
    "    # Log Metrics\n",
    "    metrics_train = model.evaluate([ratings_train.userId, ratings_train.movieId], ratings_train.rating)\n",
    "    metrics_val = model.evaluate([ratings_val.userId, ratings_val.movieId], ratings_val.rating)\n",
    "    mlflow.log_metrics(\n",
    "            {\"RMSE_TRAIN\": metrics_train[1], \"RMSE_EVAL\":  metrics_val[1]}\n",
    "        )"
   ]
  }
 ],
 "metadata": {
  "kernelspec": {
   "display_name": "Python 3 (ipykernel)",
   "language": "python",
   "name": "python3"
  },
  "language_info": {
   "codemirror_mode": {
    "name": "ipython",
    "version": 3
   },
   "file_extension": ".py",
   "mimetype": "text/x-python",
   "name": "python",
   "nbconvert_exporter": "python",
   "pygments_lexer": "ipython3",
   "version": "3.11.9"
  }
 },
 "nbformat": 4,
 "nbformat_minor": 5
}
