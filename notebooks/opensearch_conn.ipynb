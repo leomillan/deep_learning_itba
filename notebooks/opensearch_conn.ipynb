{
 "cells": [
  {
   "cell_type": "code",
   "execution_count": null,
   "id": "1852e518-01da-4956-bf75-48dd394ae9e9",
   "metadata": {},
   "outputs": [],
   "source": [
    "%load_ext dotenv\n",
    "%dotenv"
   ]
  },
  {
   "cell_type": "code",
   "execution_count": null,
   "id": "5b02073f-d59f-4a04-8686-1b9e16c23058",
   "metadata": {},
   "outputs": [],
   "source": [
    "import os\n",
    "from opensearchpy import Field, Boolean, Float, Integer, Document, Keyword, Text, DenseVector, Nested, Date, Object\n",
    "from opensearchpy import OpenSearch\n",
    "import numpy as np\n",
    "import pandas as pd\n",
    "import datetime\n",
    "\n",
    "from tqdm import tqdm"
   ]
  },
  {
   "cell_type": "code",
   "execution_count": null,
   "id": "e93d71b1-e44c-4970-ac17-bb24ec7a27a4",
   "metadata": {},
   "outputs": [],
   "source": [
    "header = ['userId', 'movieId', 'rating', 'timestamp']\n",
    "df_movies = pd.read_csv('data/ml-100k/u.item', sep='|', names=['id', 'name', 'fecha', 'x', 'url'] + list(range(19)) , encoding='latin-1')\n",
    "df_users = pd.read_csv('data/ml-100k/u.user', sep='|',  names=['id', 'age', 'ocupation', 'x'], encoding='latin-1')"
   ]
  },
  {
   "cell_type": "markdown",
   "id": "d364458e-352f-4eb3-8ff9-28da81a4988d",
   "metadata": {},
   "source": [
    "You need to run the keras_recommentadion_system notebook to generate the vectors"
   ]
  },
  {
   "cell_type": "code",
   "execution_count": null,
   "id": "bc21d00f-1d84-4e69-ac80-bd5f29118233",
   "metadata": {},
   "outputs": [],
   "source": [
    "movie_embeddings_matrix = np.load('data/vectors/movie_embeddings_matrix.npy')\n",
    "user_embeddings_matrix = np.load('data/vectors/user_embeddings_matrix.npy')\n",
    "user2Idx = np.load('data/vectors/user2Idx.npy', allow_pickle=True).item()\n",
    "movie2Idx = np.load('data/vectors/movie2Idx.npy', allow_pickle=True).item()"
   ]
  },
  {
   "cell_type": "code",
   "execution_count": null,
   "id": "9e7b1cbb-8c4c-4054-95e8-ecf91d7e1a50",
   "metadata": {},
   "outputs": [],
   "source": [
    "df_users['userIdx'] = df_users['id'].apply(lambda x: user2Idx[x])\n",
    "df_movies['movieIdx'] = df_movies['id'].apply(lambda x: movie2Idx[x])"
   ]
  },
  {
   "cell_type": "code",
   "execution_count": null,
   "id": "5c8bd310-97c4-4018-a474-8470eccf5f66",
   "metadata": {},
   "outputs": [],
   "source": [
    "df_movies.loc[df_movies['url'].isna(), 'url'] = ''"
   ]
  },
  {
   "cell_type": "code",
   "execution_count": null,
   "id": "8629d21c-1d4b-4fb7-bf5c-1b195f48e9bc",
   "metadata": {},
   "outputs": [],
   "source": [
    "host = 'localhost'\n",
    "port = 9200\n",
    "auth = ('admin', os.getenv(\"OPENSEARCH_INITIAL_ADMIN_PASSWORD\"))"
   ]
  },
  {
   "cell_type": "code",
   "execution_count": null,
   "id": "a54de504-6fda-4e3a-8607-6c8f31a61667",
   "metadata": {},
   "outputs": [],
   "source": [
    "client = OpenSearch(\n",
    "    hosts = [{'host': host, 'port': port}],\n",
    "    http_auth = auth,\n",
    "    use_ssl = True,\n",
    "    verify_certs = False,\n",
    "    ssl_show_warn=False,\n",
    ")\n",
    "client.cluster.health()"
   ]
  },
  {
   "cell_type": "code",
   "execution_count": null,
   "id": "abdef763-8bd7-426b-969b-0ec2510a4f83",
   "metadata": {},
   "outputs": [],
   "source": [
    "# Define the KNNVector field where the vectors are going to be stored\n",
    "class KNNVector(Field):\n",
    "    name = \"knn_vector\"\n",
    "    def __init__(self, dimension, method, **kwargs):\n",
    "        super(KNNVector, self).__init__(dimension=dimension, method=method, **kwargs)\n",
    "\n",
    "method = {\n",
    "    \"name\": \"hnsw\",\n",
    "    \"space_type\": \"cosinesimil\",\n",
    "    \"engine\": \"nmslib\"\n",
    "}"
   ]
  },
  {
   "cell_type": "code",
   "execution_count": null,
   "id": "b975b7bf-d4bf-499e-9fb6-7b4405955c31",
   "metadata": {},
   "outputs": [],
   "source": [
    "movie_embeddings_matrix.shape[1]"
   ]
  },
  {
   "cell_type": "code",
   "execution_count": null,
   "id": "b385b08f-a114-402b-a226-9672ec8c167a",
   "metadata": {},
   "outputs": [],
   "source": [
    "# Define the Movie class\n",
    "index_name = 'movie'\n",
    "class Movie(Document):\n",
    "    movie_id = Keyword()\n",
    "    url = Keyword()\n",
    "    name = Text()\n",
    "    created_at = Date()\n",
    "    terror = Boolean()\n",
    "\n",
    "    vector = KNNVector(\n",
    "        movie_embeddings_matrix.shape[1],\n",
    "        method\n",
    "    )\n",
    "    class Index:\n",
    "        name = index_name\n",
    "        settings = {\n",
    "                'index': {\n",
    "                'knn': True\n",
    "            }\n",
    "        }\n",
    "    # Redefine the save method to assign the movie_id as index instead of a custom index\n",
    "    # This approach will prevent from having duplicated movies\n",
    "    def save(self, ** kwargs):\n",
    "        self.meta.id = self.movie_id\n",
    "        return super(Movie, self).save(** kwargs)"
   ]
  },
  {
   "cell_type": "code",
   "execution_count": null,
   "id": "155eb605-5555-4b18-9650-724a84ae99fd",
   "metadata": {},
   "outputs": [],
   "source": [
    "Movie.init(using=client)"
   ]
  },
  {
   "cell_type": "code",
   "execution_count": null,
   "id": "7cf72df4-464c-4fce-bb16-56224239f719",
   "metadata": {},
   "outputs": [],
   "source": [
    "client.indices.exists('movie')"
   ]
  },
  {
   "cell_type": "code",
   "execution_count": null,
   "id": "3f3d10f0-74ce-4f0e-9222-cef691e7c40b",
   "metadata": {},
   "outputs": [],
   "source": [
    "client.indices.get('movie')"
   ]
  },
  {
   "cell_type": "code",
   "execution_count": null,
   "id": "4902abcf-0c45-4aa0-a5cc-b7d06f4ac0b3",
   "metadata": {},
   "outputs": [],
   "source": [
    "# Load vectors to the db\n",
    "for i, row in tqdm(df_movies.iterrows(), total=df_movies.shape[0]):\n",
    "    mv = Movie(\n",
    "        movie_id = row.id,\n",
    "        url = row.url,\n",
    "        name = row['name'],\n",
    "        terror = row[0],\n",
    "        vector = list(movie_embeddings_matrix[row.movieIdx]),\n",
    "        creared_at = datetime.datetime.now()\n",
    "    )\n",
    "    mv.save(using=client)\n",
    "# Get the total number of loaded registries\n",
    "print(f\"Total movies in db: {Movie.search(using=client).count()}\")"
   ]
  },
  {
   "cell_type": "code",
   "execution_count": null,
   "id": "3eab390c-4d6e-4631-b852-f55ae992f2b2",
   "metadata": {},
   "outputs": [],
   "source": [
    "movie_embeddings_matrix[5]"
   ]
  },
  {
   "cell_type": "code",
   "execution_count": null,
   "id": "a9e5273e-0493-4731-8cd1-77e52a1c42b3",
   "metadata": {},
   "outputs": [],
   "source": [
    "# Execute a query\n",
    "movie_idx_to_search = 5\n",
    "\n",
    "df_movies[df_movies['movieIdx'] == movie_idx_to_search]\n",
    "\n",
    "movie_embeddings_matrix[movie_idx_to_search]\n",
    "\n",
    "query = {\n",
    "    \"size\": 5,\n",
    "    \"query\": {\n",
    "        \"knn\": {\n",
    "        \"vector\": {\n",
    "            \"vector\": movie_embeddings_matrix[movie_idx_to_search],\n",
    "            \"k\" : 20\n",
    "        }\n",
    "        }\n",
    "    }\n",
    "}\n",
    "\n",
    "response = client.search(index='movie', body=query)\n",
    "\n",
    "for h in response['hits']['hits']:\n",
    "    print(h)"
   ]
  }
 ],
 "metadata": {
  "kernelspec": {
   "display_name": "Python 3 (ipykernel)",
   "language": "python",
   "name": "python3"
  },
  "language_info": {
   "codemirror_mode": {
    "name": "ipython",
    "version": 3
   },
   "file_extension": ".py",
   "mimetype": "text/x-python",
   "name": "python",
   "nbconvert_exporter": "python",
   "pygments_lexer": "ipython3",
   "version": "3.11.9"
  }
 },
 "nbformat": 4,
 "nbformat_minor": 5
}
